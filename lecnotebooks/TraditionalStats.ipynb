{
 "cells": [
  {
   "cell_type": "markdown",
   "metadata": {},
   "source": [
    "#                        Traditional Hypothesis Tests\n",
    "##                             And How to Run Them in Python"
   ]
  },
  {
   "cell_type": "markdown",
   "metadata": {},
   "source": [
    "Below you will find examples of the traditional hypothesis tests and analyses typically taught in an Intro Stat course.  Each cell is self-contained, which means that I reload the modules necessary for each test over and over again.  However, it also means that you can simply copy & paste an entire cell when you try to replicate something that is demonstrated here.  \n",
    "\n",
    "This is just a guide with some code for you to copy.  No explanations are given here."
   ]
  },
  {
   "cell_type": "code",
   "execution_count": 1,
   "metadata": {},
   "outputs": [],
   "source": [
    "from datascience import *\n",
    "import numpy as np\n",
    "import scipy.stats\n",
    "%matplotlib inline\n",
    "import matplotlib.pyplot as plots\n",
    "plots.style.use('fivethirtyeight')\n",
    "\n",
    "## Need some data to use in examples\n",
    "\n",
    "births = Table.read_table('baby.csv')\n",
    "counties = Table.read_table('counties.csv')\n",
    "crime = Table.read_table('crime_rates.csv')"
   ]
  },
  {
   "cell_type": "markdown",
   "metadata": {},
   "source": [
    "# Two Sample T-test\n",
    "\n",
    "Used to compare means of two samples.\n",
    "\n",
    "Accepts directed alternatives.  "
   ]
  },
  {
   "cell_type": "code",
   "execution_count": 2,
   "metadata": {},
   "outputs": [
    {
     "name": "stdout",
     "output_type": "stream",
     "text": [
      "Results of 2-Sample T-test\n",
      "The test statistic is t = -8.626464445756927, and p-value = 2.6564639952299482e-17.\n"
     ]
    }
   ],
   "source": [
    "# Two Sample T-test\n",
    "\n",
    "group1 = births.where(\"Maternal Smoker\", True).column(\"Birth Weight\")\n",
    "group2 = births.where(\"Maternal Smoker\", False).column(\"Birth Weight\")\n",
    "\n",
    "Results = scipy.stats.ttest_ind(group1, group2, equal_var = False)  # Default is two-tailed test\n",
    "\n",
    "# For a directed alternative, uncomment the one below with the correct direction.\n",
    "\n",
    "#Results = scipy.stats.ttest_ind(group1, group2, equal_var = False, alternative =\"greater\")\n",
    "\n",
    "#Results = scipy.stats.ttest_ind(group1, group2, equal_var = False, alternative =\"less\")\n",
    "\n",
    "print(\"Results of 2-Sample T-test\")\n",
    "\n",
    "print(f\"The test statistic is t = {Results[0]}, and p-value = {Results[1]}.\")\n"
   ]
  },
  {
   "cell_type": "markdown",
   "metadata": {},
   "source": [
    "# Matched Pairs T-test\n",
    "\n",
    "Used to look for differences when sampling the same group twice.\n",
    "\n",
    "Accepts a directed alternative."
   ]
  },
  {
   "cell_type": "code",
   "execution_count": 3,
   "metadata": {},
   "outputs": [
    {
     "name": "stdout",
     "output_type": "stream",
     "text": [
      "Results of Matched Pairs T-test\n",
      "The test statistic is t = 1.8652219662926406, and p-value = 0.06898323125568474.\n"
     ]
    }
   ],
   "source": [
    "# Matched Pairs T-test\n",
    "\n",
    "GA = crime.where(\"State\", \"Georgia\").sort(\"Year\").column(\"Murder Rate\")  ## In this example\n",
    "AL = crime.where(\"State\", \"Alabama\").sort(\"Year\").column(\"Murder Rate\")  ## they are matched by year\n",
    "\n",
    "import scipy.stats\n",
    "Results = scipy.stats.ttest_rel(GA, AL)  # Change to groups defined above\n",
    "\n",
    "# For a directed alternative, uncomment the one below with the correct direction.\n",
    "\n",
    "#Results = scipy.stats.ttest_rel(GA, AL, alternative = \"greater\")\n",
    "\n",
    "#Results = scipy.stats.ttest_rel(GA, AL, alternative = \"less\")\n",
    "\n",
    "\n",
    "print(\"Results of Matched Pairs T-test\")\n",
    "\n",
    "print(f\"The test statistic is t = {Results[0]}, and p-value = {Results[1]}.\")"
   ]
  },
  {
   "cell_type": "markdown",
   "metadata": {},
   "source": [
    "# Chi-squared test for Independence\n",
    "\n",
    "Used to look for associations between categorical data.  Data must be arranged in an array, as a two-way table.  \n",
    "\n",
    "Suppose you wanted to run a $\\chi^2$ test for independence on this table:\n",
    " \n",
    " <table> \n",
    "    <tr>\n",
    "        <th>14 </th>\n",
    "        <th>2 </th>\n",
    "    </tr>\n",
    "    <tr>\n",
    "        <th>6 </th>\n",
    "        <th>9 </th>\n",
    "    </tr>\n",
    "        </table>\n",
    " "
   ]
  },
  {
   "cell_type": "code",
   "execution_count": 4,
   "metadata": {},
   "outputs": [
    {
     "name": "stdout",
     "output_type": "stream",
     "text": [
      "Chi-Square =  5.696396780303031\n",
      "p-value =  0.016999777502603477\n",
      "degrees of freedom =  1\n",
      "Expected Table = \n",
      "[[10.32258065  5.67741935]\n",
      " [ 9.67741935  5.32258065]]\n",
      "Reminder: No zero cells, and not more than 20% with counts below 5 in Expected Table.\n"
     ]
    }
   ],
   "source": [
    "# Chi-squared test for independence\n",
    "import numpy as np\n",
    "obs = np.array([[14, 2], [6,9]])  # Put data into array structure\n",
    "\n",
    "import scipy.stats\n",
    "Results = scipy.stats.chi2_contingency(obs)\n",
    "\n",
    "## Don't change anything below this line\n",
    "\n",
    "print(\"Chi-Square = \", Results[0])\n",
    "print(\"p-value = \", Results[1])\n",
    "print(\"degrees of freedom = \", Results[2])\n",
    "print(\"Expected Table = \")\n",
    "print(Results[3])\n",
    "\n",
    "print(\"Reminder: No zero cells, and not more than 20% with counts below 5 in Expected Table.\")\n",
    "\n"
   ]
  },
  {
   "cell_type": "markdown",
   "metadata": {},
   "source": [
    "# Chi-squared Test for Goodness-of-Fit\n",
    "\n",
    "Used to test is sample counts fit an expected count based on assumed population proportions.  \n"
   ]
  },
  {
   "cell_type": "code",
   "execution_count": 5,
   "metadata": {},
   "outputs": [
    {
     "name": "stdout",
     "output_type": "stream",
     "text": [
      "Results of Chi-squared GoF Test\n",
      "The test statistic is Chi^2 = 12.823076923076922, and p-value = 0.025094358777833156.\n"
     ]
    }
   ],
   "source": [
    "# Chi-squared goodness-of-fit\n",
    "\n",
    "obs_counts = make_array(24, 20, 18, 5, 7, 1)  # Test is expecting COUNTS!\n",
    "total = sum(obs_counts)\n",
    "\n",
    "pred_counts = make_array(.24, .20, .15, .13, .13, .05)*total  # Turn proportions into COUNTS!\n",
    "\n",
    "import scipy.stats\n",
    "Results = scipy.stats.chisquare(obs_counts, pred_counts)\n",
    "\n",
    "print(\"Results of Chi-squared GoF Test\")\n",
    "\n",
    "print(f\"The test statistic is Chi^2 = {Results[0]}, and p-value = {Results[1]}.\")\n"
   ]
  },
  {
   "cell_type": "markdown",
   "metadata": {},
   "source": [
    "# Binomial Test\n",
    "\n",
    "Used to test for differences in proportions with two groups.\n",
    "\n",
    "To run this test, you designate one group \"success\" and count successes as well as trials.  \n",
    "\n",
    "Accepts a directed alternative."
   ]
  },
  {
   "cell_type": "code",
   "execution_count": 6,
   "metadata": {},
   "outputs": [
    {
     "name": "stdout",
     "output_type": "stream",
     "text": [
      "Binomial Test Results: The p-value = 0.14233173709397484\n"
     ]
    }
   ],
   "source": [
    "import scipy.stats\n",
    "\n",
    "successes = 150\n",
    "\n",
    "trials = 200\n",
    "\n",
    "null_probability = 0.7\n",
    "\n",
    "pval = scipy.stats.binom_test(successes, trials, null_probability)\n",
    "\n",
    "# For a directed alternative, uncomment the one below with the correct direction.\n",
    "\n",
    "#pval = scipy.stats.binom_test(successes, trials, null_probability, alternative = \"greater\")\n",
    "\n",
    "#pval = scipy.stats.binom_test(successes, trials, null_probability, alternative = \"less\")\n",
    "\n",
    "\n",
    "print(f\"Binomial Test Results: The p-value = {pval}\")"
   ]
  },
  {
   "cell_type": "markdown",
   "metadata": {},
   "source": [
    "# Correlation and Linear Regression\n"
   ]
  },
  {
   "cell_type": "code",
   "execution_count": 7,
   "metadata": {},
   "outputs": [
    {
     "name": "stdout",
     "output_type": "stream",
     "text": [
      "Correlation = 0.15592327018706933\n"
     ]
    }
   ],
   "source": [
    "# Correlation\n",
    "\n",
    "mom_weight = births.column(\"Maternal Pregnancy Weight\")  # Make two arrays of numbers\n",
    "baby_weight = births.column(\"Birth Weight\")              # one for x and one for y\n",
    "\n",
    "import scipy.stats\n",
    "Results = scipy.stats.pearsonr(mom_weight, baby_weight)\n",
    "\n",
    "print(f\"Correlation = {Results[0]}\")"
   ]
  },
  {
   "cell_type": "code",
   "execution_count": 8,
   "metadata": {},
   "outputs": [
    {
     "name": "stdout",
     "output_type": "stream",
     "text": [
      "Intercept = 101.75392786147968 and slope = 0.1378329069747063\n",
      "P-value for Slope =7.887284473933167e-08\n",
      "Correlation = 0.15592327018706933\n"
     ]
    }
   ],
   "source": [
    "# Linear Regression\n",
    "\n",
    "mom_weight = births.column(\"Maternal Pregnancy Weight\")  # Make two arrays of numbers\n",
    "baby_weight = births.column(\"Birth Weight\")              # one for x and one for y\n",
    "\n",
    "import scipy.stats\n",
    "Results = scipy.stats.linregress(mom_weight, baby_weight)\n",
    "\n",
    "print(f\"Intercept = {Results[1]} and slope = {Results[0]}\")\n",
    "print(f\"P-value for Slope ={Results[3]}\")\n",
    "print(f\"Correlation = {Results[2]}\")"
   ]
  },
  {
   "cell_type": "markdown",
   "metadata": {},
   "source": [
    "A scatterplot featuring the linear regression line is often included with linear regression analysis. "
   ]
  },
  {
   "cell_type": "code",
   "execution_count": 9,
   "metadata": {},
   "outputs": [
    {
     "data": {
      "image/png": "[encoded data removed]",
      "text/plain": [
       "<Figure size 360x360 with 1 Axes>"
      ]
     },
     "metadata": {},
     "output_type": "display_data"
    }
   ],
   "source": [
    "mom_weight = births.column(\"Maternal Pregnancy Weight\")  # Make two arrays of numbers\n",
    "baby_weight = births.column(\"Birth Weight\")              # one for x and one for y\n",
    "\n",
    "%matplotlib inline\n",
    "import matplotlib.pyplot as plots\n",
    "plots.style.use('fivethirtyeight')\n",
    "from datascience import *\n",
    "\n",
    "Weights = Table().with_columns(\"Mothers Weight\", mom_weight, \"Babys Weight\", baby_weight)\n",
    "\n",
    "Weights.scatter(\"Mothers Weight\", fit_line=True)"
   ]
  },
  {
   "cell_type": "markdown",
   "metadata": {},
   "source": [
    "# One Sample T-test\n",
    "\n",
    "Used to compare the mean of a single sample to an assumed population mean."
   ]
  },
  {
   "cell_type": "code",
   "execution_count": 10,
   "metadata": {},
   "outputs": [
    {
     "name": "stdout",
     "output_type": "stream",
     "text": [
      "Results of 1-Sample T-test\n",
      "The test statistic is t = -1.004764597798588, and p-value = 0.31521743438725197.\n"
     ]
    }
   ],
   "source": [
    "# One Sample T-test\n",
    "\n",
    "sample = births.column(\"Birth Weight\")\n",
    "null_mean = 120\n",
    "\n",
    "import scipy.stats\n",
    "Results = scipy.stats.ttest_1samp(sample, null_mean)\n",
    "\n",
    "# For a directed alternative uncomment the appropriate line below\n",
    "\n",
    "#Results = scipy.stats.ttest_1samp(sample, null_mean, alternative =\"greater\")\n",
    "\n",
    "#Results = scipy.stats.ttest_1samp(sample, null_mean, alternative =\"less\")\n",
    "\n",
    "print(\"Results of 1-Sample T-test\")\n",
    "print(f\"The test statistic is t = {Results[0]}, and p-value = {Results[1]}.\")\n",
    "\n"
   ]
  },
  {
   "cell_type": "code",
   "execution_count": null,
   "metadata": {},
   "outputs": [],
   "source": []
  }
 ],
 "metadata": {
  "kernelspec": {
   "display_name": "Python 3",
   "language": "python",
   "name": "python3"
  },
  "language_info": {
   "codemirror_mode": {
    "name": "ipython",
    "version": 3
   },
   "file_extension": ".py",
   "mimetype": "text/x-python",
   "name": "python",
   "nbconvert_exporter": "python",
   "pygments_lexer": "ipython3",
   "version": "3.8.6"
  }
 },
 "nbformat": 4,
 "nbformat_minor": 4
}
